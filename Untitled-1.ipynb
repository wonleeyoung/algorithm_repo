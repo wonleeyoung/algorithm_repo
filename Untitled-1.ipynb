{
 "cells": [
  {
   "cell_type": "code",
   "execution_count": 1,
   "metadata": {},
   "outputs": [
    {
     "data": {
      "text/plain": [
       "'0b11'"
      ]
     },
     "execution_count": 1,
     "metadata": {},
     "output_type": "execute_result"
    }
   ],
   "source": [
    "bin(3)"
   ]
  },
  {
   "cell_type": "code",
   "execution_count": 4,
   "metadata": {},
   "outputs": [],
   "source": [
    "a= [[\"ICN\", \"SFO\"], [\"ICN\", \"ATL\"], [\"SFO\", \"ATL\"], [\"ATL\", \"ICN\"], [\"ATL\",\"SFO\"]]"
   ]
  },
  {
   "cell_type": "code",
   "execution_count": 7,
   "metadata": {},
   "outputs": [],
   "source": [
    "a.remove([\"ICN\", \"ATL\"])"
   ]
  },
  {
   "cell_type": "code",
   "execution_count": 17,
   "metadata": {},
   "outputs": [
    {
     "name": "stdout",
     "output_type": "stream",
     "text": [
      "False\n"
     ]
    }
   ],
   "source": [
    "def solution(tickets):\n",
    "    length = len(tickets)\n",
    "    answer = ['ICN']\n",
    "    for_stack = []\n",
    "    for i in tickets:\n",
    "        if 'ICN' == i[0]:\n",
    "            for_stack.append(i)\n",
    "    for_stack.sort()\n",
    "    stack = [for_stack[0]]\n",
    "    tickets.remove(for_stack[0])  # 여기까지는 'icn'만 stack에 넣은 경우임\n",
    "    \n",
    "    while 1:\n",
    "        pop_value = stack.pop()\n",
    "        \n",
    "        answer.append(pop_value[1])\n",
    "        tickets.remove(pop_value)\n",
    "        for_stack = []\n",
    "        for i in tickets:\n",
    "            if pop_value[1] == i[0]:\n",
    "                for_stack.append(i) # for_stack 을 만들고 첫번쨰만 꺼낼 예정 \n",
    "        for_stack.sort()\n",
    "        \n",
    "        if len(for_stack) == 0:\n",
    "            if len(answer) == length:\n",
    "                break\n",
    "        else:\n",
    "            answer = \n",
    "        while len(for_stack)>0:\n",
    "            stack.append(for_stack.pop())\n",
    "        \n",
    "    \n",
    "    return answer\n",
    "print(solution([[\"ICN\", \"AOO\"], [\"AOO\", \"BOO\"], [\"BOO\", \"COO\"], [\"COO\", \"DOO\"], [\"DOO\", \"EOO\"], [\"EOO\", \"DOO\"], [\"DOO\", \"COO\"], [\"COO\", \"BOO\"], [\"BOO\", \"AOO\"]]) == [\"ICN\", \"AOO\", \"BOO\", \"COO\", \"DOO\", \"EOO\", \"DOO\", \"COO\", \"BOO\", \"AOO\"])\n"
   ]
  },
  {
   "cell_type": "code",
   "execution_count": 16,
   "metadata": {},
   "outputs": [],
   "source": [
    "a=100\n",
    "\n",
    "def q():\n",
    "    global b\n",
    "    b=a+1\n",
    "    print(b)\n",
    "    return b\n"
   ]
  },
  {
   "cell_type": "code",
   "execution_count": 18,
   "metadata": {},
   "outputs": [
    {
     "data": {
      "text/plain": [
       "101"
      ]
     },
     "execution_count": 18,
     "metadata": {},
     "output_type": "execute_result"
    }
   ],
   "source": [
    "b"
   ]
  },
  {
   "cell_type": "code",
   "execution_count": 19,
   "metadata": {},
   "outputs": [
    {
     "data": {
      "text/plain": [
       "dict_items([('김철수', 300), ('Anna', 180)])"
      ]
     },
     "execution_count": 19,
     "metadata": {},
     "output_type": "execute_result"
    }
   ],
   "source": [
    "dict = {'김철수': 300, 'Anna': 180}\n",
    "dict.items()"
   ]
  },
  {
   "cell_type": "code",
   "execution_count": 23,
   "metadata": {},
   "outputs": [],
   "source": [
    "dict2 = {}"
   ]
  },
  {
   "cell_type": "code",
   "execution_count": 30,
   "metadata": {},
   "outputs": [
    {
     "name": "stdout",
     "output_type": "stream",
     "text": [
      "4739715\n"
     ]
    }
   ],
   "source": [
    "dict1 = {}\n",
    "count = 1\n",
    "for i in range(97,123):\n",
    "    dict1[chr(i)] = count\n",
    "    count+=1\n",
    "l = int(input())\n",
    "string = input()\n",
    "a = 0\n",
    "sum = 0\n",
    "for i in string:\n",
    "    sum = sum + dict1[i]*(31**a)\n",
    "    a+=1\n",
    "print(sum%1234567891)"
   ]
  },
  {
   "cell_type": "code",
   "execution_count": 25,
   "metadata": {},
   "outputs": [
    {
     "data": {
      "text/plain": [
       "{'a': 1,\n",
       " 'b': 2,\n",
       " 'c': 3,\n",
       " 'd': 4,\n",
       " 'e': 5,\n",
       " 'f': 6,\n",
       " 'g': 7,\n",
       " 'h': 8,\n",
       " 'i': 9,\n",
       " 'j': 10,\n",
       " 'k': 11,\n",
       " 'l': 12,\n",
       " 'm': 13,\n",
       " 'n': 14,\n",
       " 'o': 15,\n",
       " 'p': 16,\n",
       " 'q': 17,\n",
       " 'r': 18,\n",
       " 's': 19,\n",
       " 't': 20,\n",
       " 'u': 21,\n",
       " 'v': 22,\n",
       " 'w': 23,\n",
       " 'x': 24,\n",
       " 'y': 25,\n",
       " 'z': 26}"
      ]
     },
     "execution_count": 25,
     "metadata": {},
     "output_type": "execute_result"
    }
   ],
   "source": [
    "dict1"
   ]
  },
  {
   "cell_type": "code",
   "execution_count": 72,
   "metadata": {},
   "outputs": [],
   "source": [
    "def solution(participant, completion):\n",
    "    answer = ''\n",
    "    participant.sort()\n",
    "    completion.sort()\n",
    "    dict1 ={}\n",
    "    dict2 ={}\n",
    "    for i in range(len(participant)):\n",
    "        dict1[i] = participant[i]\n",
    "    for i in range(len(completion)):\n",
    "        dict2[i] = completion[i]\n",
    "    for i in range(len(dict2)):\n",
    "        if dict1[i] != dict2[i]:\n",
    "            answer = dict1[i]\n",
    "    if answer =='':\n",
    "        answer = dict1[len(dict1)-1]\n",
    "            \n",
    "      \n",
    "    return answer"
   ]
  },
  {
   "cell_type": "code",
   "execution_count": 73,
   "metadata": {},
   "outputs": [
    {
     "name": "stdout",
     "output_type": "stream",
     "text": [
      "{0: 'ana', 1: 'mislav', 2: 'mislav', 3: 'stanko'}\n",
      "{0: 'ana', 1: 'mislav', 2: 'stanko'}\n"
     ]
    },
    {
     "data": {
      "text/plain": [
       "'mislav'"
      ]
     },
     "execution_count": 73,
     "metadata": {},
     "output_type": "execute_result"
    }
   ],
   "source": [
    "solution([\"mislav\", \"stanko\", \"mislav\", \"ana\"],[\"stanko\", \"ana\", \"mislav\"])"
   ]
  },
  {
   "cell_type": "markdown",
   "metadata": {},
   "source": []
  },
  {
   "cell_type": "code",
   "execution_count": 74,
   "metadata": {},
   "outputs": [],
   "source": [
    "a={1:2,3:2,2:1}"
   ]
  },
  {
   "cell_type": "code",
   "execution_count": 78,
   "metadata": {},
   "outputs": [
    {
     "data": {
      "text/plain": [
       "2"
      ]
     },
     "execution_count": 78,
     "metadata": {},
     "output_type": "execute_result"
    }
   ],
   "source": [
    "a.pop(3)"
   ]
  },
  {
   "cell_type": "code",
   "execution_count": null,
   "metadata": {},
   "outputs": [],
   "source": []
  },
  {
   "cell_type": "code",
   "execution_count": 2,
   "metadata": {},
   "outputs": [],
   "source": [
    "def solution(phone_book):\n",
    "    answer = True\n",
    "    dict1 = {}\n",
    "    for i in range(1,21):\n",
    "        dict1[i] = []\n",
    "    for i in phone_book:\n",
    "        dict1[len(i)].append(i)\n",
    "    for i in range(1,21):\n",
    "        dict1[i].sort()\n",
    "    dict1_keylist = []\n",
    "    for i,j in dict1.items():\n",
    "        if j !=[]:\n",
    "            dict1_keylist.append(i)  # dict1_keylist는 dict1의 밸류값이 있는 키값들만 들어있음  \n",
    "    while len(dict1_keylist)>1:\n",
    "        a = dict1_keylist.pop(0) # list로 구성되어있음\n",
    "        for i in dict1_keylist:\n",
    "            for j in dict1[a]:\n",
    "                for k in dict1[i]:\n",
    "                    if j == k[:a]:\n",
    "                        return False\n",
    "                if j[0] != k[0]:\n",
    "                    break \n",
    "        \n",
    "                \n",
    "    \n",
    "    return answer"
   ]
  },
  {
   "cell_type": "code",
   "execution_count": 3,
   "metadata": {},
   "outputs": [
    {
     "data": {
      "text/plain": [
       "False"
      ]
     },
     "execution_count": 3,
     "metadata": {},
     "output_type": "execute_result"
    }
   ],
   "source": [
    "solution([\"119\", \"97674223\", \"1195524421\"]\t)"
   ]
  },
  {
   "cell_type": "code",
   "execution_count": 4,
   "metadata": {},
   "outputs": [
    {
     "data": {
      "text/plain": [
       "[1, 2, 3]"
      ]
     },
     "execution_count": 4,
     "metadata": {},
     "output_type": "execute_result"
    }
   ],
   "source": [
    "a=[3,2,1]\n",
    "a.sort()\n",
    "a"
   ]
  },
  {
   "cell_type": "code",
   "execution_count": 6,
   "metadata": {},
   "outputs": [
    {
     "data": {
      "text/plain": [
       "''"
      ]
     },
     "execution_count": 6,
     "metadata": {},
     "output_type": "execute_result"
    }
   ],
   "source": [
    "import sys\n",
    "n=sys.stdin.readline().rstrip()\n",
    "n"
   ]
  },
  {
   "cell_type": "code",
   "execution_count": null,
   "metadata": {},
   "outputs": [],
   "source": []
  }
 ],
 "metadata": {
  "interpreter": {
   "hash": "aee8b7b246df8f9039afb4144a1f6fd8d2ca17a180786b69acc140d282b71a49"
  },
  "kernelspec": {
   "display_name": "Python 3.9.10 64-bit",
   "language": "python",
   "name": "python3"
  },
  "language_info": {
   "codemirror_mode": {
    "name": "ipython",
    "version": 3
   },
   "file_extension": ".py",
   "mimetype": "text/x-python",
   "name": "python",
   "nbconvert_exporter": "python",
   "pygments_lexer": "ipython3",
   "version": "3.9.10"
  },
  "orig_nbformat": 4
 },
 "nbformat": 4,
 "nbformat_minor": 2
}
