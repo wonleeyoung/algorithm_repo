{
 "cells": [
  {
   "cell_type": "code",
   "execution_count": 1,
   "metadata": {},
   "outputs": [
    {
     "data": {
      "text/plain": [
       "'0b11'"
      ]
     },
     "execution_count": 1,
     "metadata": {},
     "output_type": "execute_result"
    }
   ],
   "source": [
    "bin(3)"
   ]
  },
  {
   "cell_type": "code",
   "execution_count": 4,
   "metadata": {},
   "outputs": [],
   "source": [
    "a= [[\"ICN\", \"SFO\"], [\"ICN\", \"ATL\"], [\"SFO\", \"ATL\"], [\"ATL\", \"ICN\"], [\"ATL\",\"SFO\"]]"
   ]
  },
  {
   "cell_type": "code",
   "execution_count": 7,
   "metadata": {},
   "outputs": [],
   "source": [
    "a.remove([\"ICN\", \"ATL\"])"
   ]
  },
  {
   "cell_type": "code",
   "execution_count": 17,
   "metadata": {},
   "outputs": [
    {
     "name": "stdout",
     "output_type": "stream",
     "text": [
      "False\n"
     ]
    }
   ],
   "source": [
    "def solution(tickets):\n",
    "    length = len(tickets)\n",
    "    answer = ['ICN']\n",
    "    for_stack = []\n",
    "    for i in tickets:\n",
    "        if 'ICN' == i[0]:\n",
    "            for_stack.append(i)\n",
    "    for_stack.sort()\n",
    "    stack = [for_stack[0]]\n",
    "    tickets.remove(for_stack[0])  # 여기까지는 'icn'만 stack에 넣은 경우임\n",
    "    \n",
    "    while 1:\n",
    "        pop_value = stack.pop()\n",
    "        \n",
    "        answer.append(pop_value[1])\n",
    "        tickets.remove(pop_value)\n",
    "        for_stack = []\n",
    "        for i in tickets:\n",
    "            if pop_value[1] == i[0]:\n",
    "                for_stack.append(i) # for_stack 을 만들고 첫번쨰만 꺼낼 예정 \n",
    "        for_stack.sort()\n",
    "        \n",
    "        if len(for_stack) == 0:\n",
    "            if len(answer) == length:\n",
    "                break\n",
    "        else:\n",
    "            answer = \n",
    "        while len(for_stack)>0:\n",
    "            stack.append(for_stack.pop())\n",
    "        \n",
    "    \n",
    "    return answer\n",
    "print(solution([[\"ICN\", \"AOO\"], [\"AOO\", \"BOO\"], [\"BOO\", \"COO\"], [\"COO\", \"DOO\"], [\"DOO\", \"EOO\"], [\"EOO\", \"DOO\"], [\"DOO\", \"COO\"], [\"COO\", \"BOO\"], [\"BOO\", \"AOO\"]]) == [\"ICN\", \"AOO\", \"BOO\", \"COO\", \"DOO\", \"EOO\", \"DOO\", \"COO\", \"BOO\", \"AOO\"])\n"
   ]
  },
  {
   "cell_type": "code",
   "execution_count": 16,
   "metadata": {},
   "outputs": [],
   "source": [
    "a=100\n",
    "\n",
    "def q():\n",
    "    global b\n",
    "    b=a+1\n",
    "    print(b)\n",
    "    return b\n"
   ]
  },
  {
   "cell_type": "code",
   "execution_count": 18,
   "metadata": {},
   "outputs": [
    {
     "data": {
      "text/plain": [
       "101"
      ]
     },
     "execution_count": 18,
     "metadata": {},
     "output_type": "execute_result"
    }
   ],
   "source": [
    "b"
   ]
  },
  {
   "cell_type": "code",
   "execution_count": 19,
   "metadata": {},
   "outputs": [
    {
     "data": {
      "text/plain": [
       "dict_items([('김철수', 300), ('Anna', 180)])"
      ]
     },
     "execution_count": 19,
     "metadata": {},
     "output_type": "execute_result"
    }
   ],
   "source": [
    "dict = {'김철수': 300, 'Anna': 180}\n",
    "dict.items()"
   ]
  },
  {
   "cell_type": "code",
   "execution_count": 23,
   "metadata": {},
   "outputs": [],
   "source": [
    "dict2 = {}"
   ]
  },
  {
   "cell_type": "code",
   "execution_count": 30,
   "metadata": {},
   "outputs": [
    {
     "name": "stdout",
     "output_type": "stream",
     "text": [
      "4739715\n"
     ]
    }
   ],
   "source": [
    "dict1 = {}\n",
    "count = 1\n",
    "for i in range(97,123):\n",
    "    dict1[chr(i)] = count\n",
    "    count+=1\n",
    "l = int(input())\n",
    "string = input()\n",
    "a = 0\n",
    "sum = 0\n",
    "for i in string:\n",
    "    sum = sum + dict1[i]*(31**a)\n",
    "    a+=1\n",
    "print(sum%1234567891)"
   ]
  },
  {
   "cell_type": "code",
   "execution_count": 25,
   "metadata": {},
   "outputs": [
    {
     "data": {
      "text/plain": [
       "{'a': 1,\n",
       " 'b': 2,\n",
       " 'c': 3,\n",
       " 'd': 4,\n",
       " 'e': 5,\n",
       " 'f': 6,\n",
       " 'g': 7,\n",
       " 'h': 8,\n",
       " 'i': 9,\n",
       " 'j': 10,\n",
       " 'k': 11,\n",
       " 'l': 12,\n",
       " 'm': 13,\n",
       " 'n': 14,\n",
       " 'o': 15,\n",
       " 'p': 16,\n",
       " 'q': 17,\n",
       " 'r': 18,\n",
       " 's': 19,\n",
       " 't': 20,\n",
       " 'u': 21,\n",
       " 'v': 22,\n",
       " 'w': 23,\n",
       " 'x': 24,\n",
       " 'y': 25,\n",
       " 'z': 26}"
      ]
     },
     "execution_count": 25,
     "metadata": {},
     "output_type": "execute_result"
    }
   ],
   "source": [
    "dict1"
   ]
  },
  {
   "cell_type": "code",
   "execution_count": 72,
   "metadata": {},
   "outputs": [],
   "source": [
    "def solution(participant, completion):\n",
    "    answer = ''\n",
    "    participant.sort()\n",
    "    completion.sort()\n",
    "    dict1 ={}\n",
    "    dict2 ={}\n",
    "    for i in range(len(participant)):\n",
    "        dict1[i] = participant[i]\n",
    "    for i in range(len(completion)):\n",
    "        dict2[i] = completion[i]\n",
    "    for i in range(len(dict2)):\n",
    "        if dict1[i] != dict2[i]:\n",
    "            answer = dict1[i]\n",
    "    if answer =='':\n",
    "        answer = dict1[len(dict1)-1]\n",
    "            \n",
    "      \n",
    "    return answer"
   ]
  },
  {
   "cell_type": "code",
   "execution_count": 73,
   "metadata": {},
   "outputs": [
    {
     "name": "stdout",
     "output_type": "stream",
     "text": [
      "{0: 'ana', 1: 'mislav', 2: 'mislav', 3: 'stanko'}\n",
      "{0: 'ana', 1: 'mislav', 2: 'stanko'}\n"
     ]
    },
    {
     "data": {
      "text/plain": [
       "'mislav'"
      ]
     },
     "execution_count": 73,
     "metadata": {},
     "output_type": "execute_result"
    }
   ],
   "source": [
    "solution([\"mislav\", \"stanko\", \"mislav\", \"ana\"],[\"stanko\", \"ana\", \"mislav\"])"
   ]
  },
  {
   "cell_type": "markdown",
   "metadata": {},
   "source": []
  },
  {
   "cell_type": "code",
   "execution_count": 74,
   "metadata": {},
   "outputs": [],
   "source": [
    "a={1:2,3:2,2:1}"
   ]
  },
  {
   "cell_type": "code",
   "execution_count": 78,
   "metadata": {},
   "outputs": [
    {
     "data": {
      "text/plain": [
       "2"
      ]
     },
     "execution_count": 78,
     "metadata": {},
     "output_type": "execute_result"
    }
   ],
   "source": [
    "a.pop(3)"
   ]
  },
  {
   "cell_type": "code",
   "execution_count": null,
   "metadata": {},
   "outputs": [],
   "source": []
  },
  {
   "cell_type": "code",
   "execution_count": 2,
   "metadata": {},
   "outputs": [],
   "source": [
    "def solution(phone_book):\n",
    "    answer = True\n",
    "    dict1 = {}\n",
    "    for i in range(1,21):\n",
    "        dict1[i] = []\n",
    "    for i in phone_book:\n",
    "        dict1[len(i)].append(i)\n",
    "    for i in range(1,21):\n",
    "        dict1[i].sort()\n",
    "    dict1_keylist = []\n",
    "    for i,j in dict1.items():\n",
    "        if j !=[]:\n",
    "            dict1_keylist.append(i)  # dict1_keylist는 dict1의 밸류값이 있는 키값들만 들어있음  \n",
    "    while len(dict1_keylist)>1:\n",
    "        a = dict1_keylist.pop(0) # list로 구성되어있음\n",
    "        for i in dict1_keylist:\n",
    "            for j in dict1[a]:\n",
    "                for k in dict1[i]:\n",
    "                    if j == k[:a]:\n",
    "                        return False\n",
    "                if j[0] != k[0]:\n",
    "                    break \n",
    "        \n",
    "                \n",
    "    \n",
    "    return answer"
   ]
  },
  {
   "cell_type": "code",
   "execution_count": 3,
   "metadata": {},
   "outputs": [
    {
     "data": {
      "text/plain": [
       "False"
      ]
     },
     "execution_count": 3,
     "metadata": {},
     "output_type": "execute_result"
    }
   ],
   "source": [
    "solution([\"119\", \"97674223\", \"1195524421\"]\t)"
   ]
  },
  {
   "cell_type": "code",
   "execution_count": 4,
   "metadata": {},
   "outputs": [
    {
     "data": {
      "text/plain": [
       "[1, 2, 3]"
      ]
     },
     "execution_count": 4,
     "metadata": {},
     "output_type": "execute_result"
    }
   ],
   "source": [
    "a=[3,2,1]\n",
    "a.sort()\n",
    "a"
   ]
  },
  {
   "cell_type": "code",
   "execution_count": 6,
   "metadata": {},
   "outputs": [
    {
     "data": {
      "text/plain": [
       "''"
      ]
     },
     "execution_count": 6,
     "metadata": {},
     "output_type": "execute_result"
    }
   ],
   "source": [
    "import sys\n",
    "n=sys.stdin.readline().rstrip()\n",
    "n"
   ]
  },
  {
   "cell_type": "code",
   "execution_count": 13,
   "metadata": {},
   "outputs": [
    {
     "data": {
      "text/plain": [
       "'fds'"
      ]
     },
     "execution_count": 13,
     "metadata": {},
     "output_type": "execute_result"
    }
   ],
   "source": [
    "a='asdf'\n",
    "s = ''\n",
    "for i in a[len(a)-1:0:-1]:\n",
    "    s+=i\n"
   ]
  },
  {
   "cell_type": "code",
   "execution_count": 2,
   "metadata": {},
   "outputs": [
    {
     "ename": "TypeError",
     "evalue": "sort() takes no positional arguments",
     "output_type": "error",
     "traceback": [
      "\u001b[0;31m---------------------------------------------------------------------------\u001b[0m",
      "\u001b[0;31mTypeError\u001b[0m                                 Traceback (most recent call last)",
      "\u001b[1;32m/Users/leewonyoung/algorithm_repo1/Untitled-1.ipynb Cell 22'\u001b[0m in \u001b[0;36m<cell line: 2>\u001b[0;34m()\u001b[0m\n\u001b[1;32m      <a href='vscode-notebook-cell:/Users/leewonyoung/algorithm_repo1/Untitled-1.ipynb#ch0000021?line=0'>1</a>\u001b[0m a\u001b[39m=\u001b[39m[[\u001b[39m1\u001b[39m,\u001b[39m2\u001b[39m],[\u001b[39m1\u001b[39m,\u001b[39m3\u001b[39m]]\n\u001b[0;32m----> <a href='vscode-notebook-cell:/Users/leewonyoung/algorithm_repo1/Untitled-1.ipynb#ch0000021?line=1'>2</a>\u001b[0m a\u001b[39m.\u001b[39;49msort([\u001b[39m1\u001b[39;49m])\n",
      "\u001b[0;31mTypeError\u001b[0m: sort() takes no positional arguments"
     ]
    }
   ],
   "source": [
    "a=[[1,2],[1,3]]\n"
   ]
  },
  {
   "cell_type": "code",
   "execution_count": 3,
   "metadata": {},
   "outputs": [
    {
     "data": {
      "text/plain": [
       "2"
      ]
     },
     "execution_count": 3,
     "metadata": {},
     "output_type": "execute_result"
    }
   ],
   "source": [
    "max(1,2)"
   ]
  },
  {
   "cell_type": "code",
   "execution_count": 1,
   "metadata": {},
   "outputs": [
    {
     "data": {
      "text/plain": [
       "1"
      ]
     },
     "execution_count": 1,
     "metadata": {},
     "output_type": "execute_result"
    }
   ],
   "source": [
    "a=[[1],[2]]\n",
    "a.pop(0)[0]"
   ]
  },
  {
   "cell_type": "code",
   "execution_count": 2,
   "metadata": {},
   "outputs": [],
   "source": [
    "import datetime\n",
    "from datetime import timedelta"
   ]
  },
  {
   "cell_type": "code",
   "execution_count": null,
   "metadata": {},
   "outputs": [],
   "source": [
    "\n",
    "a = \"2016-09-15 20:59:57.421\"\n"
   ]
  },
  {
   "cell_type": "code",
   "execution_count": 1,
   "metadata": {},
   "outputs": [
    {
     "data": {
      "text/plain": [
       "(2, 1)"
      ]
     },
     "execution_count": 1,
     "metadata": {},
     "output_type": "execute_result"
    }
   ],
   "source": [
    "a=1\n",
    "b=2\n",
    "a,b=b,a\n",
    "a,b"
   ]
  },
  {
   "cell_type": "code",
   "execution_count": 5,
   "metadata": {},
   "outputs": [],
   "source": [
    "a=123123123\n",
    "b=3443532443\n",
    "c=a\n",
    "b=a\n",
    "a=b"
   ]
  },
  {
   "cell_type": "code",
   "execution_count": 6,
   "metadata": {},
   "outputs": [
    {
     "data": {
      "text/plain": [
       "(4367106832, 4367106832, 4367106832)"
      ]
     },
     "execution_count": 6,
     "metadata": {},
     "output_type": "execute_result"
    }
   ],
   "source": [
    "id(a),id(b),id(c)"
   ]
  },
  {
   "cell_type": "code",
   "execution_count": 15,
   "metadata": {},
   "outputs": [
    {
     "data": {
      "text/plain": [
       "[1, 2, 3, 4]"
      ]
     },
     "execution_count": 15,
     "metadata": {},
     "output_type": "execute_result"
    }
   ],
   "source": [
    "a=[1,2,3]\n",
    "b=a\n",
    "a.append(4)\n",
    "b"
   ]
  },
  {
   "cell_type": "code",
   "execution_count": 14,
   "metadata": {},
   "outputs": [
    {
     "data": {
      "text/plain": [
       "False"
      ]
     },
     "execution_count": 14,
     "metadata": {},
     "output_type": "execute_result"
    }
   ],
   "source": [
    "id(a) == id(b)"
   ]
  },
  {
   "cell_type": "code",
   "execution_count": 16,
   "metadata": {},
   "outputs": [
    {
     "data": {
      "text/plain": [
       "[[1, 2], [3, 4]]"
      ]
     },
     "execution_count": 16,
     "metadata": {},
     "output_type": "execute_result"
    }
   ],
   "source": [
    "a=[[1,2],[3,4]]\n",
    "b=a[:]\n",
    "b"
   ]
  },
  {
   "cell_type": "code",
   "execution_count": 17,
   "metadata": {},
   "outputs": [
    {
     "data": {
      "text/plain": [
       "True"
      ]
     },
     "execution_count": 17,
     "metadata": {},
     "output_type": "execute_result"
    }
   ],
   "source": [
    "id(a[1])==id(b[1])"
   ]
  },
  {
   "cell_type": "code",
   "execution_count": 24,
   "metadata": {},
   "outputs": [
    {
     "name": "stdout",
     "output_type": "stream",
     "text": [
      "YES\n",
      "NO\n",
      "YES\n",
      "NO\n",
      "YES\n"
     ]
    }
   ],
   "source": [
    "a=int(input())\n",
    "list1 = []\n",
    "for i in range(a):\n",
    "    x=input()\n",
    "    x=x.upper()\n",
    "    list1.append(x)\n",
    "for i in list1:\n",
    "    a=1\n",
    "    b=len(i)//2\n",
    "    for j in range(b):\n",
    "        if i[j] != i[-j-1]:\n",
    "            a=0\n",
    "            break\n",
    "    if a == 1:\n",
    "        print('YES')\n",
    "    elif a == 0:\n",
    "        print('NO')"
   ]
  },
  {
   "cell_type": "code",
   "execution_count": 23,
   "metadata": {},
   "outputs": [
    {
     "data": {
      "text/plain": [
       "'DB'"
      ]
     },
     "execution_count": 23,
     "metadata": {},
     "output_type": "execute_result"
    }
   ],
   "source": [
    "a='db'\n",
    "a=a.upper()\n",
    "a"
   ]
  },
  {
   "cell_type": "code",
   "execution_count": 8,
   "metadata": {},
   "outputs": [
    {
     "name": "stdout",
     "output_type": "stream",
     "text": [
      "IT IS TIME\n",
      "it is time\n",
      "IT IS TIME\n",
      "1\n",
      "2\n",
      "it\n",
      "is\n",
      "10\n"
     ]
    }
   ],
   "source": [
    "msg = 'it is time'\n",
    "print(msg.upper())\n",
    "print(msg)\n",
    "tmp=msg.upper()\n",
    "print(tmp)\n",
    "print(tmp.find('T'))# 인덱스번호\n",
    "print(tmp.count('T'))\n",
    "print(msg[:2])\n",
    "print(msg[3:5])\n",
    "print(len(msg))"
   ]
  },
  {
   "cell_type": "code",
   "execution_count": 11,
   "metadata": {},
   "outputs": [
    {
     "name": "stdout",
     "output_type": "stream",
     "text": [
      "i t i s t i m e "
     ]
    }
   ],
   "source": [
    "for x in msg:\n",
    "    if x.islower():\n",
    "        print(x, end = ' ')"
   ]
  },
  {
   "cell_type": "code",
   "execution_count": 12,
   "metadata": {},
   "outputs": [
    {
     "name": "stdout",
     "output_type": "stream",
     "text": [
      "itistime"
     ]
    }
   ],
   "source": [
    "for x in msg:\n",
    "    if x.isalpha():\n",
    "        print(x, end = '')"
   ]
  },
  {
   "cell_type": "code",
   "execution_count": 14,
   "metadata": {},
   "outputs": [
    {
     "name": "stdout",
     "output_type": "stream",
     "text": [
      "65\n",
      "90\n"
     ]
    }
   ],
   "source": [
    "tmp = 'AZ'\n",
    "for x in tmp:\n",
    "    print(ord(x))"
   ]
  },
  {
   "cell_type": "code",
   "execution_count": 15,
   "metadata": {},
   "outputs": [
    {
     "name": "stdout",
     "output_type": "stream",
     "text": [
      "A\n"
     ]
    }
   ],
   "source": [
    "tmp = 65\n",
    "print(chr(tmp))"
   ]
  },
  {
   "cell_type": "code",
   "execution_count": 39,
   "metadata": {},
   "outputs": [
    {
     "name": "stdout",
     "output_type": "stream",
     "text": [
      "55\n",
      "10\n",
      "1\n",
      "5\n",
      "[6, 9, 1, 3, 8, 5, 2, 4, 10, 7]\n",
      "[1, 2, 3, 4, 5, 6, 7, 8, 9, 10]\n",
      "[10, 9, 8, 7, 6, 5, 4, 3, 2, 1]\n",
      "[]\n"
     ]
    }
   ],
   "source": [
    "import random as r\n",
    "\n",
    "a= list(range(1,11))\n",
    "print(sum(a))\n",
    "print(max(a))\n",
    "print(min(a))\n",
    "print(min(7,5))\n",
    "r.shuffle(a)\n",
    "print(a)\n",
    "a.sort()\n",
    "print(a)\n",
    "a.sort(reverse = True)\n",
    "print(a)\n",
    "a.clear()\n",
    "print(a)"
   ]
  },
  {
   "cell_type": "code",
   "execution_count": 57,
   "metadata": {},
   "outputs": [
    {
     "name": "stdout",
     "output_type": "stream",
     "text": [
      "[23, 12, 36]\n",
      "[12, 36, 53]\n",
      "5\n",
      "23 12 36 53 19 \n",
      "23 12 36 53 19 \n",
      "23 53 19 \n",
      "(0, 23)\n",
      "(1, 12)\n",
      "(2, 36)\n",
      "(3, 53)\n",
      "(4, 19)\n",
      "1\n",
      "(1, 2, 3, 4, 5)\n",
      "0 23\n",
      "1 12\n",
      "2 36\n",
      "3 53\n",
      "4 19\n",
      "\n",
      "0 23\n",
      "1 12\n",
      "2 36\n",
      "3 53\n",
      "4 19\n",
      "\n",
      "no\n",
      "yes\n"
     ]
    }
   ],
   "source": [
    "a=[23,12,36,53,19]\n",
    "print(a[:3])\n",
    "print(a[1:4])\n",
    "print(len(a))\n",
    "for i in range(len(a)):\n",
    "    print(a[i],end = ' ')\n",
    "print()\n",
    "for x in a:\n",
    "    print(x,end = ' ')\n",
    "print()\n",
    "for x in a:\n",
    "    if x % 2 ==1:\n",
    "        print(x,end = ' ')\n",
    "print()\n",
    "for x in enumerate(a):\n",
    "    print(x)\n",
    "b=(1,2,3,4,5)\n",
    "print(b[0])\n",
    "print(b)\n",
    "for x in enumerate(a):\n",
    "    print(x[0],x[1])\n",
    "print()\n",
    "for index, value in enumerate(a):\n",
    "    print(index, value)\n",
    "print()\n",
    "\n",
    "# 모두다 안의 조건을 만족할 때\n",
    "if all(50>x for x in a):\n",
    "    print('yes')\n",
    "else:\n",
    "    print('no')\n",
    "# 한번이라도 참인게 있다면\n",
    "if any(15>x for x in a):\n",
    "    print('yes')\n",
    "else:\n",
    "    print('no')"
   ]
  },
  {
   "cell_type": "code",
   "execution_count": 63,
   "metadata": {},
   "outputs": [
    {
     "name": "stdout",
     "output_type": "stream",
     "text": [
      "[[0, 0, 0], [0, 0, 0], [0, 0, 0]]\n",
      "[[0, 1, 0], [0, 0, 0], [0, 0, 0]]\n",
      "[[0, 1, 0], [0, 2, 0], [0, 0, 0]]\n",
      "[0, 1, 0]\n",
      "[0, 2, 0]\n",
      "[0, 0, 0]\n",
      "0 1 0 \n",
      "0 2 0 \n",
      "0 0 0 \n"
     ]
    }
   ],
   "source": [
    "#a=[0]*10\n",
    "#print(a)\n",
    "a=[[0]*3 for _ in range(3)]\n",
    "print(a)\n",
    "a[0][1] = 1\n",
    "print(a)\n",
    "a[1][1] = 2\n",
    "print(a)\n",
    "for x in a:\n",
    "    print(x)\n",
    "for x in a:\n",
    "    for y in x:\n",
    "        print(y, end = ' ')\n",
    "    print()"
   ]
  },
  {
   "cell_type": "code",
   "execution_count": 69,
   "metadata": {},
   "outputs": [
    {
     "name": "stdout",
     "output_type": "stream",
     "text": [
      "(5, 1)\n",
      "13 7 19 "
     ]
    }
   ],
   "source": [
    "def add(a,b):\n",
    "    c= a+b\n",
    "    d=a-b\n",
    "    return c,d # 튜플로 반환함\n",
    "print(add(3,2))\n",
    "\n",
    "def isPrime(x):\n",
    "    for i in range(2,x):\n",
    "        if x%i ==0:\n",
    "            return False\n",
    "    return True\n",
    "\n",
    "a=[12,13,7,9,19]\n",
    "for x in a:\n",
    "    if isPrime(x):\n",
    "        print(x,end = ' ')\n"
   ]
  },
  {
   "cell_type": "code",
   "execution_count": 74,
   "metadata": {},
   "outputs": [],
   "source": [
    "def plus_one(x):\n",
    "    return x+1"
   ]
  },
  {
   "cell_type": "code",
   "execution_count": 76,
   "metadata": {},
   "outputs": [
    {
     "name": "stdout",
     "output_type": "stream",
     "text": [
      "3\n",
      "[2, 3, 4]\n",
      "[2, 3, 4]\n"
     ]
    }
   ],
   "source": [
    "plus_two = lambda x: x+2\n",
    "print(plus_two(1))\n",
    "a=[1,2,3]\n",
    "print(list(map(plus_one,a)))\n",
    "print(list(map(lambda x: x+1,a)))\n",
    "\n"
   ]
  },
  {
   "cell_type": "code",
   "execution_count": 77,
   "metadata": {},
   "outputs": [
    {
     "name": "stdout",
     "output_type": "stream",
     "text": [
      "3\n"
     ]
    }
   ],
   "source": [
    "n,k = list(map(int,input().split()))\n",
    "cnt = 0\n",
    "for i in range(1,n+1):\n",
    "    if n%i == 0:\n",
    "       cnt+=1\n",
    "    if cnt == k:\n",
    "        print(i)\n",
    "        break\n",
    "if cnt < k:\n",
    "    print(-1)"
   ]
  },
  {
   "cell_type": "code",
   "execution_count": 78,
   "metadata": {},
   "outputs": [
    {
     "name": "stdout",
     "output_type": "stream",
     "text": [
      "7\n",
      "7\n"
     ]
    }
   ],
   "source": [
    "t=int(input())\n",
    "for i in range(t):\n",
    "    n,s,e,k = map(int,input().split())\n",
    "    list1 = list(map(int,input().split()))\n",
    "    list1.sort()\n",
    "    list2 = list1[s-1:e]\n",
    "    print(list2[k-1])"
   ]
  },
  {
   "cell_type": "code",
   "execution_count": 102,
   "metadata": {},
   "outputs": [
    {
     "name": "stdout",
     "output_type": "stream",
     "text": [
      "143\n",
      "7 8 9\n"
     ]
    }
   ],
   "source": [
    "n,q = map(int,input().split())\n",
    "list1 = list(map(int,input().split()))\n",
    "list2 = []\n",
    "for i in range(n-2):\n",
    "    for j in range(i+1,n-1):\n",
    "        for k in range(j+1,n):\n",
    "            a = list1[i]+list1[j]+list1[k]\n",
    "            list2.append(a)\n",
    "list2 = set(list2)\n",
    "list2 = list(list2)\n",
    "list2.sort()\n",
    "print(list2[-q])\n",
    "# for문에 있는 변수도 결국 저장되는것임"
   ]
  },
  {
   "cell_type": "code",
   "execution_count": 104,
   "metadata": {},
   "outputs": [
    {
     "name": "stdout",
     "output_type": "stream",
     "text": [
      "2\n"
     ]
    }
   ],
   "source": [
    "arr = [5,3,7,9,2,5,2,6]\n",
    "arrMin = float('inf')\n",
    "for i in range(len(arr)):\n",
    "    if arr[i]<arrMin:\n",
    "        arrMin = arr[i]\n",
    "print(arrMin)"
   ]
  },
  {
   "cell_type": "code",
   "execution_count": 105,
   "metadata": {},
   "outputs": [
    {
     "name": "stdout",
     "output_type": "stream",
     "text": [
      "(0, 1)\n",
      "(1, 2)\n",
      "(2, 3)\n"
     ]
    }
   ],
   "source": [
    "list1=[1,2,3]\n",
    "for i in enumerate(list1):\n",
    "    print(i)"
   ]
  },
  {
   "cell_type": "code",
   "execution_count": 3,
   "metadata": {},
   "outputs": [
    {
     "name": "stdout",
     "output_type": "stream",
     "text": [
      "%d c\n"
     ]
    }
   ],
   "source": [
    "a = 'c'\n",
    "\n",
    "print(\"%d\",a)"
   ]
  },
  {
   "cell_type": "code",
   "execution_count": null,
   "metadata": {},
   "outputs": [],
   "source": []
  }
 ],
 "metadata": {
  "interpreter": {
   "hash": "aee8b7b246df8f9039afb4144a1f6fd8d2ca17a180786b69acc140d282b71a49"
  },
  "kernelspec": {
   "display_name": "Python 3.9.10 64-bit",
   "language": "python",
   "name": "python3"
  },
  "language_info": {
   "codemirror_mode": {
    "name": "ipython",
    "version": 3
   },
   "file_extension": ".py",
   "mimetype": "text/x-python",
   "name": "python",
   "nbconvert_exporter": "python",
   "pygments_lexer": "ipython3",
   "version": "3.9.10"
  },
  "orig_nbformat": 4
 },
 "nbformat": 4,
 "nbformat_minor": 2
}
