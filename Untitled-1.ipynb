{
 "cells": [
  {
   "cell_type": "code",
   "execution_count": 1,
   "metadata": {},
   "outputs": [
    {
     "data": {
      "text/plain": [
       "'0b11'"
      ]
     },
     "execution_count": 1,
     "metadata": {},
     "output_type": "execute_result"
    }
   ],
   "source": [
    "bin(3)"
   ]
  },
  {
   "cell_type": "code",
   "execution_count": 4,
   "metadata": {},
   "outputs": [],
   "source": [
    "a= [[\"ICN\", \"SFO\"], [\"ICN\", \"ATL\"], [\"SFO\", \"ATL\"], [\"ATL\", \"ICN\"], [\"ATL\",\"SFO\"]]"
   ]
  },
  {
   "cell_type": "code",
   "execution_count": 7,
   "metadata": {},
   "outputs": [],
   "source": [
    "a.remove([\"ICN\", \"ATL\"])"
   ]
  },
  {
   "cell_type": "code",
   "execution_count": 17,
   "metadata": {},
   "outputs": [
    {
     "name": "stdout",
     "output_type": "stream",
     "text": [
      "False\n"
     ]
    }
   ],
   "source": [
    "def solution(tickets):\n",
    "    answer = ['ICN']\n",
    "    for_stack = []\n",
    "    for i in tickets:\n",
    "        if 'ICN' == i[0]:\n",
    "            for_stack.append(i)\n",
    "    for_stack.sort()\n",
    "    stack = [for_stack[0]]\n",
    "    tickets.remove(for_stack[0])  # 여기까지는 'icn'만 stack에 넣은 경우임\n",
    "    \n",
    "    while 1:\n",
    "        pop_value = stack.pop()\n",
    "        answer.append(pop_value[1])\n",
    "        for_stack = []\n",
    "        for i in tickets:\n",
    "            if pop_value[1] == i[0]:\n",
    "                for_stack.append(i) # for_stack 을 만들고 첫번쨰만 꺼낼 예정 \n",
    "        for_stack.sort()\n",
    "        \n",
    "        if len(for_stack) == 0:\n",
    "            break\n",
    "        stack.append(for_stack[0])\n",
    "        tickets.remove(for_stack[0])\n",
    "    return answer\n",
    "print(solution([[\"ICN\", \"AOO\"], [\"AOO\", \"BOO\"], [\"BOO\", \"COO\"], [\"COO\", \"DOO\"], [\"DOO\", \"EOO\"], [\"EOO\", \"DOO\"], [\"DOO\", \"COO\"], [\"COO\", \"BOO\"], [\"BOO\", \"AOO\"]]) == [\"ICN\", \"AOO\", \"BOO\", \"COO\", \"DOO\", \"EOO\", \"DOO\", \"COO\", \"BOO\", \"AOO\"])\n"
   ]
  },
  {
   "cell_type": "code",
   "execution_count": null,
   "metadata": {},
   "outputs": [],
   "source": []
  }
 ],
 "metadata": {
  "interpreter": {
   "hash": "aee8b7b246df8f9039afb4144a1f6fd8d2ca17a180786b69acc140d282b71a49"
  },
  "kernelspec": {
   "display_name": "Python 3.9.10 64-bit",
   "language": "python",
   "name": "python3"
  },
  "language_info": {
   "codemirror_mode": {
    "name": "ipython",
    "version": 3
   },
   "file_extension": ".py",
   "mimetype": "text/x-python",
   "name": "python",
   "nbconvert_exporter": "python",
   "pygments_lexer": "ipython3",
   "version": "3.9.10"
  },
  "orig_nbformat": 4
 },
 "nbformat": 4,
 "nbformat_minor": 2
}
